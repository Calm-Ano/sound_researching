{
 "cells": [
  {
   "cell_type": "markdown",
   "source": [
    "# npzファイルを用いて学習"
   ],
   "metadata": {
    "collapsed": false
   }
  },
  {
   "cell_type": "code",
   "execution_count": 2,
   "outputs": [],
   "source": [
    "import numpy as np\n",
    "from common.util import smooth_curve\n",
    "from common.multi_layer_net import MultiLayerNet\n",
    "from common.optimizer import *\n",
    "import matplotlib.pyplot as plt\n",
    "import keras"
   ],
   "metadata": {
    "collapsed": false,
    "pycharm": {
     "name": "#%%\n"
    }
   }
  },
  {
   "cell_type": "markdown",
   "source": [
    "## 音声ファイルのプロパティを手動設定\n",
    "### dataset files"
   ],
   "metadata": {
    "collapsed": false
   }
  },
  {
   "cell_type": "code",
   "execution_count": 3,
   "outputs": [],
   "source": [
    "train_files = [\"train_data_set_clean.npz\",\n",
    "               \"train_data_set_whitenoise.npz\",\n",
    "               \"train_data_set_soundshift.npz\",\n",
    "               \"train_data_set_stretch.npz\"]\n",
    "\n",
    "test_file = \"test_data_set.npz\""
   ],
   "metadata": {
    "collapsed": false,
    "pycharm": {
     "name": "#%%\n"
    }
   }
  },
  {
   "cell_type": "markdown",
   "source": [
    "### 各定数の設定\n",
    "\n",
    "create_npz と同じ freqとtimeに設定"
   ],
   "metadata": {
    "collapsed": false
   }
  },
  {
   "cell_type": "code",
   "execution_count": 4,
   "outputs": [],
   "source": [
    "# 周波数を128に\n",
    "freq = 128\n",
    "time = 52\n",
    "\n",
    "train_num = 187\n",
    "test_num = 63"
   ],
   "metadata": {
    "collapsed": false,
    "pycharm": {
     "name": "#%%\n"
    }
   }
  },
  {
   "cell_type": "markdown",
   "source": [
    "### define dataset placeholders"
   ],
   "metadata": {
    "collapsed": false
   }
  },
  {
   "cell_type": "code",
   "execution_count": 5,
   "outputs": [],
   "source": [
    "x_train = np.zeros(freq*time*train_num*len(train_files)).reshape(train_num*len(train_files), freq*time)\n",
    "y_train = np.zeros(train_num*len(train_files))"
   ],
   "metadata": {
    "collapsed": false,
    "pycharm": {
     "name": "#%%\n"
    }
   }
  },
  {
   "cell_type": "markdown",
   "source": [
    "### load dataset"
   ],
   "metadata": {
    "collapsed": false
   }
  },
  {
   "cell_type": "code",
   "execution_count": 6,
   "outputs": [
    {
     "name": "stdout",
     "output_type": "stream",
     "text": [
      "x_train.shape:(748, 6656)\n",
      "y_train.shape:(748,)\n"
     ]
    }
   ],
   "source": [
    "for i in range(len(train_files)):\n",
    "    data = np.load(train_files[i])\n",
    "    x_train[i*train_num:(i+1)*train_num] = data[\"x\"].reshape(train_num, freq*time)\n",
    "    y_train[i*train_num:(i+1)*train_num] = data[\"y\"]\n",
    "\n",
    "x_train = x_train.reshape(train_num*len(train_files), freq * time)\n",
    "print(\"x_train.shape:{}\".format(x_train.shape))\n",
    "print(\"y_train.shape:{}\".format(y_train.shape))"
   ],
   "metadata": {
    "collapsed": false,
    "pycharm": {
     "name": "#%%\n"
    }
   }
  },
  {
   "cell_type": "markdown",
   "source": [
    "### load test dataset"
   ],
   "metadata": {
    "collapsed": false
   }
  },
  {
   "cell_type": "code",
   "execution_count": 7,
   "outputs": [
    {
     "name": "stdout",
     "output_type": "stream",
     "text": [
      "x_test shape : (63, 6656)\n",
      "[[ 0.87219715  0.79168916  0.54243648 ... -2.21233916 -2.03901458\n",
      "  -1.87951589]\n",
      " [ 0.87004626  0.78579593  0.50210154 ... -2.27005959 -1.89627218\n",
      "  -1.73677301]\n",
      " [ 1.03006339  0.95460749  0.727777   ... -2.30213022 -2.04399109\n",
      "  -1.88449216]\n",
      " ...\n",
      " [ 0.82113159  0.72916079  0.4389292  ... -2.31144166 -1.93765414\n",
      "  -1.77815485]\n",
      " [ 0.65483844  0.60671568  0.41501129 ... -1.91448259 -1.54069483\n",
      "  -1.38119578]\n",
      " [ 0.75667346  0.70058954  0.52234435 ... -2.30459762 -2.30459762\n",
      "  -2.28163743]]\n",
      "\n",
      "--------------------------------\n",
      "y_test shape : (63,)\n",
      "[0. 2. 4. 1. 3. 3. 0. 1. 2. 0. 3. 1. 2. 4. 3. 2. 3. 1. 2. 4. 0. 4. 2. 0.\n",
      " 1. 4. 3. 1. 0. 2. 0. 0. 3. 3. 3. 4. 4. 4. 1. 3. 4. 1. 2. 1. 1. 0. 3. 4.\n",
      " 1. 1. 4. 2. 4. 0. 2. 3. 4. 2. 2. 0. 2. 0. 1.]\n",
      "\n"
     ]
    }
   ],
   "source": [
    "test_data = np.load(test_file)\n",
    "x_test = test_data[\"x\"].reshape(len(test_data['x']), freq*time)\n",
    "y_test = test_data[\"y\"]\n",
    "print(\"x_test shape : {0}\\n{1}\\n\".format(x_test.shape, x_test))\n",
    "print('-' * 32)\n",
    "print(\"y_test shape : {0}\\n{1}\\n\".format(y_test.shape, y_test))"
   ],
   "metadata": {
    "collapsed": false,
    "pycharm": {
     "name": "#%%\n"
    }
   }
  },
  {
   "cell_type": "markdown",
   "source": [
    "### one-hot表現に変更"
   ],
   "metadata": {
    "collapsed": false
   }
  },
  {
   "cell_type": "code",
   "execution_count": 8,
   "outputs": [
    {
     "name": "stdout",
     "output_type": "stream",
     "text": [
      "y_train shape:(748, 5)\n",
      "[[0. 1. 0. 0. 0.]\n",
      " [1. 0. 0. 0. 0.]\n",
      " [1. 0. 0. 0. 0.]\n",
      " ...\n",
      " [0. 0. 1. 0. 0.]\n",
      " [0. 0. 0. 1. 0.]\n",
      " [1. 0. 0. 0. 0.]]\n",
      "\n",
      "y_test shape:(63, 5)\n",
      "[[1. 0. 0. 0. 0.]\n",
      " [0. 0. 1. 0. 0.]\n",
      " [0. 0. 0. 0. 1.]\n",
      " [0. 1. 0. 0. 0.]\n",
      " [0. 0. 0. 1. 0.]\n",
      " [0. 0. 0. 1. 0.]\n",
      " [1. 0. 0. 0. 0.]\n",
      " [0. 1. 0. 0. 0.]\n",
      " [0. 0. 1. 0. 0.]\n",
      " [1. 0. 0. 0. 0.]\n",
      " [0. 0. 0. 1. 0.]\n",
      " [0. 1. 0. 0. 0.]\n",
      " [0. 0. 1. 0. 0.]\n",
      " [0. 0. 0. 0. 1.]\n",
      " [0. 0. 0. 1. 0.]\n",
      " [0. 0. 1. 0. 0.]\n",
      " [0. 0. 0. 1. 0.]\n",
      " [0. 1. 0. 0. 0.]\n",
      " [0. 0. 1. 0. 0.]\n",
      " [0. 0. 0. 0. 1.]\n",
      " [1. 0. 0. 0. 0.]\n",
      " [0. 0. 0. 0. 1.]\n",
      " [0. 0. 1. 0. 0.]\n",
      " [1. 0. 0. 0. 0.]\n",
      " [0. 1. 0. 0. 0.]\n",
      " [0. 0. 0. 0. 1.]\n",
      " [0. 0. 0. 1. 0.]\n",
      " [0. 1. 0. 0. 0.]\n",
      " [1. 0. 0. 0. 0.]\n",
      " [0. 0. 1. 0. 0.]\n",
      " [1. 0. 0. 0. 0.]\n",
      " [1. 0. 0. 0. 0.]\n",
      " [0. 0. 0. 1. 0.]\n",
      " [0. 0. 0. 1. 0.]\n",
      " [0. 0. 0. 1. 0.]\n",
      " [0. 0. 0. 0. 1.]\n",
      " [0. 0. 0. 0. 1.]\n",
      " [0. 0. 0. 0. 1.]\n",
      " [0. 1. 0. 0. 0.]\n",
      " [0. 0. 0. 1. 0.]\n",
      " [0. 0. 0. 0. 1.]\n",
      " [0. 1. 0. 0. 0.]\n",
      " [0. 0. 1. 0. 0.]\n",
      " [0. 1. 0. 0. 0.]\n",
      " [0. 1. 0. 0. 0.]\n",
      " [1. 0. 0. 0. 0.]\n",
      " [0. 0. 0. 1. 0.]\n",
      " [0. 0. 0. 0. 1.]\n",
      " [0. 1. 0. 0. 0.]\n",
      " [0. 1. 0. 0. 0.]\n",
      " [0. 0. 0. 0. 1.]\n",
      " [0. 0. 1. 0. 0.]\n",
      " [0. 0. 0. 0. 1.]\n",
      " [1. 0. 0. 0. 0.]\n",
      " [0. 0. 1. 0. 0.]\n",
      " [0. 0. 0. 1. 0.]\n",
      " [0. 0. 0. 0. 1.]\n",
      " [0. 0. 1. 0. 0.]\n",
      " [0. 0. 1. 0. 0.]\n",
      " [1. 0. 0. 0. 0.]\n",
      " [0. 0. 1. 0. 0.]\n",
      " [1. 0. 0. 0. 0.]\n",
      " [0. 1. 0. 0. 0.]]\n"
     ]
    }
   ],
   "source": [
    "classes = 5\n",
    "y_train = keras.utils.to_categorical(y_train, classes)\n",
    "y_test = keras.utils.to_categorical(y_test, classes)\n",
    "\n",
    "print(\"y_train shape:{}\\n{}\".format(y_train.shape, y_train))\n",
    "print()\n",
    "print(\"y_test shape:{}\\n{}\".format(y_test.shape, y_test))\n",
    "# x_test = x_test.reshape(test_num, freq, time, 1)\n",
    "\n"
   ],
   "metadata": {
    "collapsed": false,
    "pycharm": {
     "name": "#%%\n"
    }
   }
  },
  {
   "cell_type": "code",
   "execution_count": 9,
   "outputs": [
    {
     "name": "stdout",
     "output_type": "stream",
     "text": [
      "x train:(748, 6656)\n",
      "y train:(748, 5)\n",
      "x test:(63, 6656)\n",
      "y test:(63, 5)\n"
     ]
    }
   ],
   "source": [
    "print(\"x train:{0}\\ny train:{1}\\nx test:{2}\\ny test:{3}\".format(x_train.shape,\n",
    "                                                                y_train.shape,\n",
    "                                                                x_test.shape,\n",
    "                                                                y_test.shape))"
   ],
   "metadata": {
    "collapsed": false,
    "pycharm": {
     "name": "#%%\n"
    }
   }
  },
  {
   "cell_type": "markdown",
   "source": [
    "### chap6 のコード(抜粋)\n",
    "#### 訓練の下準備"
   ],
   "metadata": {
    "collapsed": false
   }
  },
  {
   "cell_type": "code",
   "execution_count": 10,
   "outputs": [],
   "source": [
    "optimizers = {}\n",
    "optimizers['SGD'] = SGD()\n",
    "optimizers['Momentum'] = Momentum()\n",
    "optimizers['AdaGrad'] = AdaGrad()\n",
    "optimizers['Adam'] = Adam()\n",
    "# optimizers['RMSprop'] = RMSprop()\n",
    "\n",
    "networks = {}\n",
    "train_loss = {}\n",
    "for key in optimizers.keys():\n",
    "    networks[key] = MultiLayerNet(\n",
    "        input_size=freq*time, hidden_size_list=[100, 100, 100, 100],\n",
    "        output_size=classes)\n",
    "    train_loss[key] = []"
   ],
   "metadata": {
    "collapsed": false,
    "pycharm": {
     "name": "#%%\n"
    }
   }
  },
  {
   "cell_type": "markdown",
   "source": [
    "#### 訓練の開始"
   ],
   "metadata": {
    "collapsed": false
   }
  },
  {
   "cell_type": "code",
   "execution_count": 11,
   "outputs": [
    {
     "name": "stdout",
     "output_type": "stream",
     "text": [
      "===========iteration:0===========\n",
      "SGD\t:4.532492108931617\n",
      "Momentum\t:4.773423104509529\n",
      "AdaGrad\t:12.088313570093426\n",
      "Adam\t:5.128217793847509\n",
      "===========iteration:100===========\n",
      "SGD\t:0.09674597330052703\n",
      "Momentum\t:1.6156261780630001\n",
      "AdaGrad\t:0.0016339391947686006\n",
      "Adam\t:0.002977315603200298\n",
      "===========iteration:200===========\n",
      "SGD\t:0.026661702357940395\n",
      "Momentum\t:1.5989458476936131\n",
      "AdaGrad\t:0.0030531391335057363\n",
      "Adam\t:0.00028853453095360065\n",
      "===========iteration:300===========\n",
      "SGD\t:0.012629383733078004\n",
      "Momentum\t:1.6155066708688781\n",
      "AdaGrad\t:0.0031080677062874404\n",
      "Adam\t:0.0001501750753673103\n",
      "===========iteration:400===========\n",
      "SGD\t:0.00808486464461456\n",
      "Momentum\t:1.611770352898355\n",
      "AdaGrad\t:0.0032359262582975284\n",
      "Adam\t:0.00021796291661253344\n",
      "===========iteration:500===========\n",
      "SGD\t:0.017979852620065545\n",
      "Momentum\t:1.6260345555149553\n",
      "AdaGrad\t:0.002526633904951348\n",
      "Adam\t:8.337504614393026e-05\n",
      "===========iteration:600===========\n",
      "SGD\t:0.005321142850685373\n",
      "Momentum\t:1.617220268755652\n",
      "AdaGrad\t:0.002050797291787067\n",
      "Adam\t:0.00012791742932860607\n",
      "===========iteration:700===========\n",
      "SGD\t:0.0024579271637682506\n",
      "Momentum\t:1.6053379359961002\n",
      "AdaGrad\t:0.0017961342901743507\n",
      "Adam\t:8.030610492720135e-05\n",
      "===========iteration:800===========\n",
      "SGD\t:0.0019073201456468356\n",
      "Momentum\t:1.5985384632811785\n",
      "AdaGrad\t:0.0005447757293962248\n",
      "Adam\t:3.834453095478142e-05\n",
      "===========iteration:900===========\n",
      "SGD\t:0.0037253303526873422\n",
      "Momentum\t:1.6164150135100832\n",
      "AdaGrad\t:0.0009273330250534317\n",
      "Adam\t:3.519497800997824e-05\n"
     ]
    }
   ],
   "source": [
    "train_size = x_train.shape[0]\n",
    "batch_size = 32\n",
    "max_iterations = 1000\n",
    "\n",
    "for i in range(max_iterations):\n",
    "    batch_mask = np.random.choice(train_size, batch_size)\n",
    "    x_batch = x_train[batch_mask]\n",
    "    t_batch = y_train[batch_mask]\n",
    "\n",
    "    for key in optimizers.keys():\n",
    "        grads = networks[key].gradient(x_batch, t_batch)\n",
    "        optimizers[key].update(networks[key].params, grads)\n",
    "\n",
    "        loss = networks[key].loss(x_batch, t_batch)\n",
    "        train_loss[key].append(loss)\n",
    "\n",
    "    if i % 100 == 0:\n",
    "        print( \"===========\" + \"iteration:\" + str(i) + \"===========\")\n",
    "        for key in optimizers.keys():\n",
    "            loss = networks[key].loss(x_batch, t_batch)\n",
    "            print(key + \"\\t:\" + str(loss))"
   ],
   "metadata": {
    "collapsed": false,
    "pycharm": {
     "name": "#%%\n"
    }
   }
  },
  {
   "cell_type": "markdown",
   "source": [
    "### グラフの描画"
   ],
   "metadata": {
    "collapsed": false
   }
  },
  {
   "cell_type": "code",
   "execution_count": 13,
   "outputs": [
    {
     "data": {
      "text/plain": "<Figure size 432x288 with 1 Axes>",
      "image/png": "[encoded data removed]"
     },
     "metadata": {
      "needs_background": "light"
     },
     "output_type": "display_data"
    }
   ],
   "source": [
    "markers = {\"SGD\" : \"o\", \"Momentum\" : \"x\", \"AdaGrad\" : \"s\", \"Adam\" : \"D\"}\n",
    "x = np.arange(max_iterations)\n",
    "for key in optimizers.keys():\n",
    "    plt.plot(x, smooth_curve(train_loss[key]), marker=markers[key], markevery=100, label=key)\n",
    "plt.xlabel(\"iterations\")\n",
    "plt.ylabel(\"loss\")\n",
    "plt.ylim(0, 0.04)\n",
    "plt.legend()\n",
    "plt.show()"
   ],
   "metadata": {
    "collapsed": false,
    "pycharm": {
     "name": "#%%\n"
    }
   }
  },
  {
   "cell_type": "code",
   "execution_count": 12,
   "outputs": [],
   "source": [],
   "metadata": {
    "collapsed": false,
    "pycharm": {
     "name": "#%%\n"
    }
   }
  }
 ],
 "metadata": {
  "kernelspec": {
   "display_name": "Python 3",
   "language": "python",
   "name": "python3"
  },
  "language_info": {
   "codemirror_mode": {
    "name": "ipython",
    "version": 2
   },
   "file_extension": ".py",
   "mimetype": "text/x-python",
   "name": "python",
   "nbconvert_exporter": "python",
   "pygments_lexer": "ipython2",
   "version": "2.7.6"
  }
 },
 "nbformat": 4,
 "nbformat_minor": 0
}