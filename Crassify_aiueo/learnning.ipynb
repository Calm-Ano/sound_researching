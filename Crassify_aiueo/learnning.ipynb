{
 "cells": [
  {
   "cell_type": "markdown",
   "source": [
    "#### npzファイルを用いて学習\n",
    "#### 音声ファイルのプロパティを手動設定"
   ],
   "metadata": {
    "collapsed": false
   }
  },
  {
   "cell_type": "code",
   "execution_count": 119,
   "outputs": [],
   "source": [
    "import numpy as np\n",
    "import keras\n",
    "from common.util import smooth_curve\n",
    "from common.multi_layer_net import MultiLayerNet\n",
    "from common.optimizer import *\n",
    "import matplotlib.pyplot as plt\n",
    "\n",
    "# from keras.models import Model\n",
    "# from keras.layers import Input, Dense, Dropout, Activation\n",
    "# from keras.layers import Conv2D, GlobalAveragePooling2D\n",
    "# from keras.layers import BatchNormalization, Add\n",
    "# from keras.callbacks import EarlyStopping, ModelCheckpoint\n",
    "# from keras.models import load_model"
   ],
   "metadata": {
    "collapsed": false,
    "pycharm": {
     "name": "#%%\n"
    }
   }
  },
  {
   "cell_type": "markdown",
   "source": [
    "### dataset files"
   ],
   "metadata": {
    "collapsed": false
   }
  },
  {
   "cell_type": "code",
   "execution_count": 120,
   "outputs": [],
   "source": [
    "train_files = [\"train_data_set_clean.npz\",\n",
    "               \"train_data_set_whitenoise.npz\",\n",
    "               \"train_data_set_soundshift.npz\",\n",
    "               \"train_data_set_stretch.npz\"]\n",
    "\n",
    "test_file = \"test_data_set.npz\""
   ],
   "metadata": {
    "collapsed": false,
    "pycharm": {
     "name": "#%%\n"
    }
   }
  },
  {
   "cell_type": "markdown",
   "source": [
    "#### 各定数の設定"
   ],
   "metadata": {
    "collapsed": false
   }
  },
  {
   "cell_type": "code",
   "execution_count": 121,
   "outputs": [],
   "source": [
    "# 周波数を128に\n",
    "freq = 128\n",
    "time = 52\n",
    "\n",
    "train_num = 187\n",
    "test_num = 63"
   ],
   "metadata": {
    "collapsed": false,
    "pycharm": {
     "name": "#%%\n"
    }
   }
  },
  {
   "cell_type": "markdown",
   "source": [
    "### define dataset placeholders"
   ],
   "metadata": {
    "collapsed": false
   }
  },
  {
   "cell_type": "code",
   "execution_count": 122,
   "outputs": [],
   "source": [
    "x_train = np.zeros(freq*time*train_num*len(train_files)).reshape(train_num*len(train_files), freq*time)\n",
    "y_train = np.zeros(train_num*len(train_files))"
   ],
   "metadata": {
    "collapsed": false,
    "pycharm": {
     "name": "#%%\n"
    }
   }
  },
  {
   "cell_type": "markdown",
   "source": [
    "# load dataset"
   ],
   "metadata": {
    "collapsed": false
   }
  },
  {
   "cell_type": "code",
   "execution_count": 123,
   "outputs": [
    {
     "name": "stdout",
     "output_type": "stream",
     "text": [
      "x_train.shape:(748, 6656)\n",
      "y_train.shape:(748,)\n"
     ]
    }
   ],
   "source": [
    "for i in range(len(train_files)):\n",
    "    data = np.load(train_files[i])\n",
    "    x_train[i*train_num:(i+1)*train_num] = data[\"x\"].reshape(train_num, freq*time)\n",
    "    y_train[i*train_num:(i+1)*train_num] = data[\"y\"]\n",
    "\n",
    "x_train = x_train.reshape(train_num*len(train_files), freq * time)\n",
    "print(\"x_train.shape:{}\".format(x_train.shape))\n",
    "print(\"y_train.shape:{}\".format(y_train.shape))"
   ],
   "metadata": {
    "collapsed": false,
    "pycharm": {
     "name": "#%%\n"
    }
   }
  },
  {
   "cell_type": "markdown",
   "source": [
    "# load test dataset"
   ],
   "metadata": {
    "collapsed": false
   }
  },
  {
   "cell_type": "code",
   "execution_count": 124,
   "outputs": [
    {
     "name": "stdout",
     "output_type": "stream",
     "text": [
      "x_test shape : (63, 6656)\n",
      "[[ 0.87219715  0.79168916  0.54243648 ... -2.21233916 -2.03901458\n",
      "  -1.87951589]\n",
      " [ 0.87004626  0.78579593  0.50210154 ... -2.27005959 -1.89627218\n",
      "  -1.73677301]\n",
      " [ 1.03006339  0.95460749  0.727777   ... -2.30213022 -2.04399109\n",
      "  -1.88449216]\n",
      " ...\n",
      " [ 0.82113159  0.72916079  0.4389292  ... -2.31144166 -1.93765414\n",
      "  -1.77815485]\n",
      " [ 0.65483844  0.60671568  0.41501129 ... -1.91448259 -1.54069483\n",
      "  -1.38119578]\n",
      " [ 0.75667346  0.70058954  0.52234435 ... -2.30459762 -2.30459762\n",
      "  -2.28163743]]\n",
      "\n",
      "--------------------------------\n",
      "y_test shape : (63,)\n",
      "[0. 2. 4. 1. 3. 3. 0. 1. 2. 0. 3. 1. 2. 4. 3. 2. 3. 1. 2. 4. 0. 4. 2. 0.\n",
      " 1. 4. 3. 1. 0. 2. 0. 0. 3. 3. 3. 4. 4. 4. 1. 3. 4. 1. 2. 1. 1. 0. 3. 4.\n",
      " 1. 1. 4. 2. 4. 0. 2. 3. 4. 2. 2. 0. 2. 0. 1.]\n",
      "\n"
     ]
    }
   ],
   "source": [
    "test_data = np.load(test_file)\n",
    "x_test = test_data[\"x\"].reshape(len(test_data['x']), freq*time)\n",
    "y_test = test_data[\"y\"]\n",
    "print(\"x_test shape : {0}\\n{1}\\n\".format(x_test.shape, x_test))\n",
    "print('-' * 32)\n",
    "print(\"y_test shape : {0}\\n{1}\\n\".format(y_test.shape, y_test))"
   ],
   "metadata": {
    "collapsed": false,
    "pycharm": {
     "name": "#%%\n"
    }
   }
  },
  {
   "cell_type": "markdown",
   "source": [
    "# one-hot表現に変更"
   ],
   "metadata": {
    "collapsed": false
   }
  },
  {
   "cell_type": "code",
   "execution_count": 125,
   "outputs": [
    {
     "name": "stdout",
     "output_type": "stream",
     "text": [
      "y_train shape:(748, 5)\n",
      "[[0. 1. 0. 0. 0.]\n",
      " [1. 0. 0. 0. 0.]\n",
      " [1. 0. 0. 0. 0.]\n",
      " ...\n",
      " [0. 0. 1. 0. 0.]\n",
      " [0. 0. 0. 1. 0.]\n",
      " [1. 0. 0. 0. 0.]]\n",
      "\n",
      "y_test shape:(63, 5)\n",
      "[[1. 0. 0. 0. 0.]\n",
      " [0. 0. 1. 0. 0.]\n",
      " [0. 0. 0. 0. 1.]\n",
      " [0. 1. 0. 0. 0.]\n",
      " [0. 0. 0. 1. 0.]\n",
      " [0. 0. 0. 1. 0.]\n",
      " [1. 0. 0. 0. 0.]\n",
      " [0. 1. 0. 0. 0.]\n",
      " [0. 0. 1. 0. 0.]\n",
      " [1. 0. 0. 0. 0.]\n",
      " [0. 0. 0. 1. 0.]\n",
      " [0. 1. 0. 0. 0.]\n",
      " [0. 0. 1. 0. 0.]\n",
      " [0. 0. 0. 0. 1.]\n",
      " [0. 0. 0. 1. 0.]\n",
      " [0. 0. 1. 0. 0.]\n",
      " [0. 0. 0. 1. 0.]\n",
      " [0. 1. 0. 0. 0.]\n",
      " [0. 0. 1. 0. 0.]\n",
      " [0. 0. 0. 0. 1.]\n",
      " [1. 0. 0. 0. 0.]\n",
      " [0. 0. 0. 0. 1.]\n",
      " [0. 0. 1. 0. 0.]\n",
      " [1. 0. 0. 0. 0.]\n",
      " [0. 1. 0. 0. 0.]\n",
      " [0. 0. 0. 0. 1.]\n",
      " [0. 0. 0. 1. 0.]\n",
      " [0. 1. 0. 0. 0.]\n",
      " [1. 0. 0. 0. 0.]\n",
      " [0. 0. 1. 0. 0.]\n",
      " [1. 0. 0. 0. 0.]\n",
      " [1. 0. 0. 0. 0.]\n",
      " [0. 0. 0. 1. 0.]\n",
      " [0. 0. 0. 1. 0.]\n",
      " [0. 0. 0. 1. 0.]\n",
      " [0. 0. 0. 0. 1.]\n",
      " [0. 0. 0. 0. 1.]\n",
      " [0. 0. 0. 0. 1.]\n",
      " [0. 1. 0. 0. 0.]\n",
      " [0. 0. 0. 1. 0.]\n",
      " [0. 0. 0. 0. 1.]\n",
      " [0. 1. 0. 0. 0.]\n",
      " [0. 0. 1. 0. 0.]\n",
      " [0. 1. 0. 0. 0.]\n",
      " [0. 1. 0. 0. 0.]\n",
      " [1. 0. 0. 0. 0.]\n",
      " [0. 0. 0. 1. 0.]\n",
      " [0. 0. 0. 0. 1.]\n",
      " [0. 1. 0. 0. 0.]\n",
      " [0. 1. 0. 0. 0.]\n",
      " [0. 0. 0. 0. 1.]\n",
      " [0. 0. 1. 0. 0.]\n",
      " [0. 0. 0. 0. 1.]\n",
      " [1. 0. 0. 0. 0.]\n",
      " [0. 0. 1. 0. 0.]\n",
      " [0. 0. 0. 1. 0.]\n",
      " [0. 0. 0. 0. 1.]\n",
      " [0. 0. 1. 0. 0.]\n",
      " [0. 0. 1. 0. 0.]\n",
      " [1. 0. 0. 0. 0.]\n",
      " [0. 0. 1. 0. 0.]\n",
      " [1. 0. 0. 0. 0.]\n",
      " [0. 1. 0. 0. 0.]]\n"
     ]
    }
   ],
   "source": [
    "classes = 5\n",
    "y_train = keras.utils.to_categorical(y_train, classes)\n",
    "y_test = keras.utils.to_categorical(y_test, classes)\n",
    "\n",
    "print(\"y_train shape:{}\\n{}\".format(y_train.shape, y_train))\n",
    "print()\n",
    "print(\"y_test shape:{}\\n{}\".format(y_test.shape, y_test))\n",
    "# x_test = x_test.reshape(test_num, freq, time, 1)\n",
    "\n"
   ],
   "metadata": {
    "collapsed": false,
    "pycharm": {
     "name": "#%%\n"
    }
   }
  },
  {
   "cell_type": "code",
   "execution_count": 126,
   "outputs": [
    {
     "name": "stdout",
     "output_type": "stream",
     "text": [
      "x train:(748, 6656)\n",
      "y train:(748, 5)\n",
      "x test:(63, 6656)\n",
      "y test:(63, 5)\n"
     ]
    }
   ],
   "source": [
    "print(\"x train:{0}\\ny train:{1}\\nx test:{2}\\ny test:{3}\".format(x_train.shape,\n",
    "                                                                y_train.shape,\n",
    "                                                                x_test.shape,\n",
    "                                                                y_test.shape))"
   ],
   "metadata": {
    "collapsed": false,
    "pycharm": {
     "name": "#%%\n"
    }
   }
  },
  {
   "cell_type": "markdown",
   "source": [
    "# chap6"
   ],
   "metadata": {
    "collapsed": false
   }
  },
  {
   "cell_type": "code",
   "execution_count": 127,
   "outputs": [],
   "source": [
    "optimizers = {}\n",
    "optimizers['SGD'] = SGD()\n",
    "optimizers['Momentum'] = Momentum()\n",
    "optimizers['AdaGrad'] = AdaGrad()\n",
    "optimizers['Adam'] = Adam()\n",
    "# optimizers['RMSprop'] = RMSprop()\n",
    "\n",
    "networks = {}\n",
    "train_loss = {}\n",
    "for key in optimizers.keys():\n",
    "    networks[key] = MultiLayerNet(\n",
    "        input_size=freq*time, hidden_size_list=[100, 100, 100, 100],\n",
    "        output_size=classes)\n",
    "    train_loss[key] = []"
   ],
   "metadata": {
    "collapsed": false,
    "pycharm": {
     "name": "#%%\n"
    }
   }
  },
  {
   "cell_type": "markdown",
   "source": [
    "#### 訓練の開始"
   ],
   "metadata": {
    "collapsed": false
   }
  },
  {
   "cell_type": "code",
   "execution_count": 128,
   "outputs": [
    {
     "name": "stdout",
     "output_type": "stream",
     "text": [
      "===========iteration:0===========\n",
      "SGD\t:2.5018445001447924\n",
      "Momentum\t:13.540633128924892\n",
      "AdaGrad\t:13.599643189871081\n",
      "Adam\t:7.394332634234565\n",
      "===========iteration:100===========\n",
      "SGD\t:0.905215635621926\n",
      "Momentum\t:1.6293197763950298\n",
      "AdaGrad\t:0.016902599850577897\n",
      "Adam\t:0.0010184618765900718\n",
      "===========iteration:200===========\n",
      "SGD\t:0.714460192218495\n",
      "Momentum\t:1.6039164415894538\n",
      "AdaGrad\t:0.01517513873997518\n",
      "Adam\t:0.006548122657666758\n",
      "===========iteration:300===========\n",
      "SGD\t:0.34087471213975673\n",
      "Momentum\t:1.6043505429265064\n",
      "AdaGrad\t:0.0293785605422926\n",
      "Adam\t:0.0018883932900084866\n",
      "===========iteration:400===========\n",
      "SGD\t:0.3511673280044722\n",
      "Momentum\t:1.6166238331121905\n",
      "AdaGrad\t:0.009580825216885995\n",
      "Adam\t:0.0005300919443582107\n",
      "===========iteration:500===========\n",
      "SGD\t:0.3073105413754773\n",
      "Momentum\t:1.606714781358812\n",
      "AdaGrad\t:0.04052771338263106\n",
      "Adam\t:0.0015407414388866445\n",
      "===========iteration:600===========\n",
      "SGD\t:0.5425165088370594\n",
      "Momentum\t:1.611017728489538\n",
      "AdaGrad\t:0.003978180837997957\n",
      "Adam\t:0.00011726403159203016\n",
      "===========iteration:700===========\n",
      "SGD\t:2.1021178908685303\n",
      "Momentum\t:1.60197538300712\n",
      "AdaGrad\t:0.013327831088657493\n",
      "Adam\t:0.001151699039496968\n",
      "===========iteration:800===========\n",
      "SGD\t:0.0902613253384914\n",
      "Momentum\t:1.6167604677381464\n",
      "AdaGrad\t:0.005197710140446557\n",
      "Adam\t:5.776305888105101e-05\n",
      "===========iteration:900===========\n",
      "SGD\t:0.07120077629345209\n",
      "Momentum\t:1.614121053330273\n",
      "AdaGrad\t:0.003683412201113635\n",
      "Adam\t:2.8713537455944503e-05\n"
     ]
    }
   ],
   "source": [
    "train_size = x_train.shape[0]\n",
    "batch_size = 32\n",
    "max_iterations = 1000\n",
    "\n",
    "for i in range(max_iterations):\n",
    "    batch_mask = np.random.choice(train_size, batch_size)\n",
    "    x_batch = x_train[batch_mask]\n",
    "    t_batch = y_train[batch_mask]\n",
    "\n",
    "    for key in optimizers.keys():\n",
    "        grads = networks[key].gradient(x_batch, t_batch)\n",
    "        optimizers[key].update(networks[key].params, grads)\n",
    "\n",
    "        loss = networks[key].loss(x_batch, t_batch)\n",
    "        train_loss[key].append(loss)\n",
    "\n",
    "    if i % 100 == 0:\n",
    "        print( \"===========\" + \"iteration:\" + str(i) + \"===========\")\n",
    "        for key in optimizers.keys():\n",
    "            loss = networks[key].loss(x_batch, t_batch)\n",
    "            print(key + \"\\t:\" + str(loss))"
   ],
   "metadata": {
    "collapsed": false,
    "pycharm": {
     "name": "#%%\n"
    }
   }
  },
  {
   "cell_type": "markdown",
   "source": [
    "#### グラフの描画"
   ],
   "metadata": {
    "collapsed": false
   }
  },
  {
   "cell_type": "code",
   "execution_count": 129,
   "outputs": [
    {
     "data": {
      "text/plain": "<Figure size 432x288 with 1 Axes>",
      "image/png": "[encoded data removed]"
     },
     "metadata": {
      "needs_background": "light"
     },
     "output_type": "display_data"
    }
   ],
   "source": [
    "markers = {\"SGD\" : \"o\", \"Momentum\" : \"x\", \"AdaGrad\" : \"s\", \"Adam\" : \"D\"}\n",
    "x = np.arange(max_iterations)\n",
    "for key in optimizers.keys():\n",
    "    plt.plot(x, smooth_curve(train_loss[key]), marker=markers[key], markevery=100, label=key)\n",
    "plt.xlabel(\"iterations\")\n",
    "plt.ylabel(\"loss\")\n",
    "plt.ylim(0, 1)\n",
    "plt.legend()\n",
    "plt.show()"
   ],
   "metadata": {
    "collapsed": false,
    "pycharm": {
     "name": "#%%\n"
    }
   }
  }
 ],
 "metadata": {
  "kernelspec": {
   "display_name": "Python 3",
   "language": "python",
   "name": "python3"
  },
  "language_info": {
   "codemirror_mode": {
    "name": "ipython",
    "version": 2
   },
   "file_extension": ".py",
   "mimetype": "text/x-python",
   "name": "python",
   "nbconvert_exporter": "python",
   "pygments_lexer": "ipython2",
   "version": "2.7.6"
  }
 },
 "nbformat": 4,
 "nbformat_minor": 0
}